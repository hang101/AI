{
  "nbformat": 4,
  "nbformat_minor": 0,
  "metadata": {
    "colab": {
      "provenance": [],
      "gpuType": "T4",
      "authorship_tag": "ABX9TyNIXwriWmCBJUgapetDH4x/",
      "include_colab_link": true
    },
    "kernelspec": {
      "name": "python3",
      "display_name": "Python 3"
    },
    "language_info": {
      "name": "python"
    },
    "accelerator": "GPU",
    "gpuClass": "standard"
  },
  "cells": [
    {
      "cell_type": "markdown",
      "metadata": {
        "id": "view-in-github",
        "colab_type": "text"
      },
      "source": [
        "<a href=\"https://colab.research.google.com/github/hang101/AI/blob/main/NqueensProblem/NqueensProblem.ipynb\" target=\"_parent\"><img src=\"https://colab.research.google.com/assets/colab-badge.svg\" alt=\"Open In Colab\"/></a>"
      ]
    },
    {
      "cell_type": "code",
      "execution_count": 2,
      "metadata": {
        "colab": {
          "base_uri": "https://localhost:8080/"
        },
        "id": "ObXa6iCdVpDV",
        "outputId": "7e44a23b-2e25-48fd-a98b-205c95dead4a"
      },
      "outputs": [
        {
          "output_type": "stream",
          "name": "stdout",
          "text": [
            "1 0 0 0 0 0 0 0 0 0 \n",
            "0 0 0 0 0 0 0 1 0 0 \n",
            "0 1 0 0 0 0 0 0 0 0 \n",
            "0 0 0 0 0 0 0 0 1 0 \n",
            "0 0 0 0 0 1 0 0 0 0 \n",
            "0 0 1 0 0 0 0 0 0 0 \n",
            "0 0 0 0 0 0 0 0 0 1 \n",
            "0 0 0 1 0 0 0 0 0 0 \n",
            "0 0 0 0 0 0 1 0 0 0 \n",
            "0 0 0 0 1 0 0 0 0 0 \n",
            "solution is found\n"
          ]
        }
      ],
      "source": [
        "N = 10\n",
        "def printBoard(board):\n",
        "  for i in range(N):\n",
        "    for j in range(N):\n",
        "      print(board[i][j],end=\" \")\n",
        "    print()\n",
        "\n",
        "def isSafe(board,row,col):\n",
        "  for i in range(col):\n",
        "    if(board[row][i]):\n",
        "      return False\n",
        "  \n",
        "  for i,j in zip(range(row,-1,-1),range(col,-1,-1)):\n",
        "    if(board[i][j]):\n",
        "      return False\n",
        "  for i,j in zip(range(row,N),range(col,-1,-1)):\n",
        "    if(board[i][j]):\n",
        "      return False      \n",
        "  return True\n",
        "\n",
        "\n",
        "def SolveNQp(board,col):\n",
        "  if (col>=N):\n",
        "    return True\n",
        "  for i in range(N):\n",
        "    if(isSafe(board,i,col)):\n",
        "      board[i][col]=1\n",
        "      if(SolveNQp(board,col+1)):\n",
        "        return True\n",
        "      board[i][col]=0\n",
        "  return False\n",
        "\n",
        "def solveNQ():\n",
        "  board= [[0 for x in range(N)] for y in range(N)]\n",
        "  if(SolveNQp(board,0)==True):\n",
        "    printBoard(board)\n",
        "    print(\"solution is found\")\n",
        "\n",
        "solveNQ()"
      ]
    }
  ]
}